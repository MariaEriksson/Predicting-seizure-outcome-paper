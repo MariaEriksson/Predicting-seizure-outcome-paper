{
 "cells": [
  {
   "cell_type": "markdown",
   "id": "c92409ca",
   "metadata": {},
   "source": [
    "# Figures 3A, 3B and 4A\n",
    "\n",
    "This notebook creates:\n",
    "\n",
    "1. Figure 3A showing ROC curves for all model performances,\n",
    "2. Figure 3B showing model performances at different sample sizes (up to samples of N=2,000), and \n",
    "3. Figure 4A showing the impact of the number and nature of predictors on model performance"
   ]
  },
  {
   "cell_type": "code",
   "execution_count": null,
   "id": "8458df56",
   "metadata": {},
   "outputs": [],
   "source": [
    "# Import relevant packages\n",
    "\n",
    "import pandas as pd\n",
    "import numpy as np\n",
    "from sklearn import preprocessing\n",
    "import matplotlib.pyplot as plt \n",
    "plt.rc(\"font\", size=14)\n",
    "from sklearn.neural_network import MLPClassifier\n",
    "from sklearn.model_selection import train_test_split\n",
    "import seaborn as sns\n",
    "sns.set(style=\"white\")\n",
    "sns.set(style=\"whitegrid\", color_codes=True)\n",
    "from sklearn import metrics\n",
    "from statsmodels.stats.proportion import proportion_confint\n",
    "from statsmodels.stats.outliers_influence import variance_inflation_factor\n",
    "from sklearn.model_selection import StratifiedKFold \n",
    "from sklearn.preprocessing import StandardScaler\n",
    "from sklearn.pipeline import make_pipeline"
   ]
  },
  {
   "cell_type": "markdown",
   "id": "86a77fd1",
   "metadata": {},
   "source": [
    "# Figure 3A: More complex models?"
   ]
  },
  {
   "cell_type": "code",
   "execution_count": null,
   "id": "bd42eb06",
   "metadata": {},
   "outputs": [],
   "source": [
    "# Load LR values\n",
    "\n",
    "with open('scores_lr_github.npy', 'rb') as f:\n",
    "    lr_fpr = np.load(f)\n",
    "    lr_tpr = np.load(f)"
   ]
  },
  {
   "cell_type": "code",
   "execution_count": null,
   "id": "d558e06f",
   "metadata": {},
   "outputs": [],
   "source": [
    "# Load MLP values\n",
    "\n",
    "with open('scores_mlp_github.npy', 'rb') as f:\n",
    "    mlp_fpr = np.load(f)\n",
    "    mlp_tpr = np.load(f)"
   ]
  },
  {
   "cell_type": "code",
   "execution_count": null,
   "id": "6a973f19",
   "metadata": {},
   "outputs": [],
   "source": [
    "# Load XGBoost own values\n",
    "\n",
    "with open('scores_xgboost_own_github.npy', 'rb') as f:\n",
    "    xgboost_own_fpr = np.load(f)\n",
    "    xgboost_own_tpr = np.load(f)"
   ]
  },
  {
   "cell_type": "code",
   "execution_count": null,
   "id": "d2031030",
   "metadata": {},
   "outputs": [],
   "source": [
    "# Load XGBoost other values\n",
    "\n",
    "with open('scores_xgboost_other_github.npy', 'rb') as f:\n",
    "    xgboost_other_fpr = np.load(f)\n",
    "    xgboost_other_tpr = np.load(f)"
   ]
  },
  {
   "cell_type": "code",
   "execution_count": null,
   "id": "626c6355",
   "metadata": {},
   "outputs": [],
   "source": [
    "# Plot ROC and AUC scores\n",
    "\n",
    "plt.figure(1)\n",
    "plt.figure(figsize=(10, 8))\n",
    "plt.plot(lr_fpr,lr_tpr, label = 'LR, AUC = 0.72', color = '#7a5071', linewidth=4)\n",
    "plt.plot(mlp_fpr,mlp_tpr, label = 'MLP, AUC = 0.70', color = '#ce8080', linewidth=4)\n",
    "plt.plot(xgboost_own_fpr,xgboost_own_tpr, label = 'XGBoost, AUC = 0.70', color = '#5698a3', linewidth=4)\n",
    "plt.plot(xgboost_other_fpr,xgboost_other_tpr, label = 'External XGBoost, AUC = 0.62', color = '#bacfec', linewidth=4)\n",
    "plt.plot([0, 1], [0, 1], 'k--')\n",
    "plt.xticks(size = 25)\n",
    "plt.yticks(size = 25)\n",
    "plt.xlabel('False positive rate', size = 35)\n",
    "plt.ylabel('True positive rate', size = 35)\n",
    "plt.title('ROC curve', size = 35)\n",
    "plt.legend(loc = 4,prop = {'size': 19})\n",
    "plt.savefig('roc_models_Epilepsia.png')"
   ]
  },
  {
   "cell_type": "markdown",
   "id": "27a4bcc5",
   "metadata": {},
   "source": [
    "# Figure 4A: Better data? Using LR"
   ]
  },
  {
   "cell_type": "code",
   "execution_count": null,
   "id": "9bfb18c6",
   "metadata": {},
   "outputs": [],
   "source": [
    "# Load LR select predictors \n",
    "\n",
    "with open('scores_lr_github.npy', 'rb') as f:\n",
    "    lr_fpr = np.load(f)\n",
    "    lr_tpr = np.load(f)"
   ]
  },
  {
   "cell_type": "code",
   "execution_count": null,
   "id": "99b24f98",
   "metadata": {},
   "outputs": [],
   "source": [
    "# Load LR MRI only \n",
    "\n",
    "with open('scores_lr_all_github.npy', 'rb') as f:\n",
    "    lr_random_fpr = np.load(f)\n",
    "    lr_random_tpr = np.load(f)"
   ]
  },
  {
   "cell_type": "code",
   "execution_count": null,
   "id": "314fdc03",
   "metadata": {},
   "outputs": [],
   "source": [
    "# Load LR all predictors \n",
    "\n",
    "with open('scores_lr_mri_only_github.npy', 'rb') as f:\n",
    "    lr_reduced_fpr = np.load(f)\n",
    "    lr_reduced_tpr = np.load(f)"
   ]
  },
  {
   "cell_type": "code",
   "execution_count": null,
   "id": "f1c7e4b9",
   "metadata": {},
   "outputs": [],
   "source": [
    "# Plot ROC and AUC scores\n",
    "\n",
    "plt.figure(1)\n",
    "plt.figure(figsize=(10, 8))\n",
    "plt.plot(lr_fpr,lr_tpr, label = 'LR - Select predictors, AUC = 0.72', color = '#677719', linewidth=4)\n",
    "plt.plot(lr_random_fpr,lr_random_tpr, label = 'LR - All predictors, AUC = 0.69', color = '#e37c1d', linewidth=4)\n",
    "plt.plot(lr_reduced_fpr,lr_reduced_tpr, label = 'LR - MRI diagnosis only, AUC = 0.59', color = '#a30234', linewidth=4)\n",
    "plt.plot([0, 1], [0, 1], 'k--')\n",
    "plt.xticks(size = 25)\n",
    "plt.yticks(size = 25)\n",
    "plt.xlabel('False positive rate', size = 35)\n",
    "plt.ylabel('True positive rate', size = 35)\n",
    "plt.title('ROC curve', size = 35)\n",
    "plt.legend(loc = 4,prop = {'size': 20})\n",
    "plt.savefig('roc_predictors_Epilepsia.png')"
   ]
  },
  {
   "cell_type": "markdown",
   "id": "001f3d32",
   "metadata": {},
   "source": [
    "# Supplementary figure: Better data? Using MLP"
   ]
  },
  {
   "cell_type": "code",
   "execution_count": null,
   "id": "2306ebea",
   "metadata": {},
   "outputs": [],
   "source": [
    "# Load MLP select predictors\n",
    "\n",
    "with open('scores_mlp_github.npy', 'rb') as f:\n",
    "    lr_fpr = np.load(f)\n",
    "    lr_tpr = np.load(f)"
   ]
  },
  {
   "cell_type": "code",
   "execution_count": null,
   "id": "a2b9bfc9",
   "metadata": {},
   "outputs": [],
   "source": [
    "# Load MLP MRI only \n",
    "\n",
    "with open('scores_mlp_all_github.npy', 'rb') as f:\n",
    "    lr_random_fpr = np.load(f)\n",
    "    lr_random_tpr = np.load(f)"
   ]
  },
  {
   "cell_type": "code",
   "execution_count": null,
   "id": "11ad111a",
   "metadata": {},
   "outputs": [],
   "source": [
    "# Load MLP all predictors\n",
    "\n",
    "with open('scores_mlp_mri_only_github.npy', 'rb') as f:\n",
    "    lr_reduced_fpr = np.load(f)\n",
    "    lr_reduced_tpr = np.load(f)"
   ]
  },
  {
   "cell_type": "code",
   "execution_count": null,
   "id": "2042adb2",
   "metadata": {},
   "outputs": [],
   "source": [
    "# Plot ROC and AUC scores\n",
    "\n",
    "plt.figure(1)\n",
    "plt.figure(figsize=(10, 8))\n",
    "plt.plot(lr_fpr,lr_tpr, label = 'MLP - Select predictors, AUC = 0.70', color = '#677719', linewidth=4)\n",
    "plt.plot(lr_random_fpr,lr_random_tpr, label = 'MLP - All predictors, AUC = 0.65', color = '#e37c1d', linewidth=4)\n",
    "plt.plot(lr_reduced_fpr,lr_reduced_tpr, label = 'MLP - MRI diagnosis only, AUC = 0.50', color = '#a30234', linewidth=4)\n",
    "plt.plot([0, 1], [0, 1], 'k--')\n",
    "plt.xticks(size = 25)\n",
    "plt.yticks(size = 25)\n",
    "plt.xlabel('False positive rate', size = 35)\n",
    "plt.ylabel('True positive rate', size = 35)\n",
    "plt.title('ROC curve', size = 35)\n",
    "plt.legend(loc = 4,prop = {'size': 19})\n",
    "plt.savefig('/home/maria/Desktop/PhD/Predicting-outcome-clinical-paper/Figures/Epilepsia/Supp-figure-2.png')"
   ]
  },
  {
   "cell_type": "markdown",
   "id": "843fe014",
   "metadata": {},
   "source": [
    "# Supplementary figure: Better data? Using XGBoost"
   ]
  },
  {
   "cell_type": "code",
   "execution_count": null,
   "id": "08bba7a1",
   "metadata": {},
   "outputs": [],
   "source": [
    "# Load XGBoost select predictors\n",
    "\n",
    "with open('scores_xgboost_own_github.npy', 'rb') as f:\n",
    "    lr_fpr = np.load(f)\n",
    "    lr_tpr = np.load(f)"
   ]
  },
  {
   "cell_type": "code",
   "execution_count": null,
   "id": "a17797bf",
   "metadata": {},
   "outputs": [],
   "source": [
    "# Load XGBoost MRI only \n",
    "\n",
    "with open('scores_xgboost_own_all_github.npy', 'rb') as f:\n",
    "    lr_random_fpr = np.load(f)\n",
    "    lr_random_tpr = np.load(f)"
   ]
  },
  {
   "cell_type": "code",
   "execution_count": null,
   "id": "08883668",
   "metadata": {},
   "outputs": [],
   "source": [
    "# Load XGBoost all predictors\n",
    "\n",
    "with open('scores_xgboost_own_mri_only_github.npy', 'rb') as f:\n",
    "    lr_reduced_fpr = np.load(f)\n",
    "    lr_reduced_tpr = np.load(f)"
   ]
  },
  {
   "cell_type": "code",
   "execution_count": null,
   "id": "da85d341",
   "metadata": {},
   "outputs": [],
   "source": [
    "# Plot ROC and AUC scores\n",
    "\n",
    "plt.figure(1)\n",
    "plt.figure(figsize=(10, 8))\n",
    "plt.plot(lr_fpr,lr_tpr, label = 'XGBoost - Select predictors, AUC = 0.70', color = '#677719', linewidth=4)\n",
    "plt.plot(lr_random_fpr,lr_random_tpr, label = 'XGBoost - All predictors, AUC = 0.68', color = '#e37c1d', linewidth=4)\n",
    "plt.plot(lr_reduced_fpr,lr_reduced_tpr, label = 'XGBoost - MRI diagnosis only, AUC = 0.59', color = '#a30234', linewidth=4)\n",
    "plt.plot([0, 1], [0, 1], 'k--')\n",
    "plt.xticks(size = 25)\n",
    "plt.yticks(size = 25)\n",
    "plt.xlabel('False positive rate', size = 35)\n",
    "plt.ylabel('True positive rate', size = 35)\n",
    "plt.title('ROC curve', size = 35)\n",
    "plt.legend(loc = 4,prop = {'size': 19})\n",
    "plt.savefig('/home/maria/Desktop/PhD/Predicting-outcome-clinical-paper/Figures/Epilepsia/Supp-figure-3.png')"
   ]
  },
  {
   "cell_type": "markdown",
   "id": "c895dd25",
   "metadata": {},
   "source": [
    "# Figure 3B: Larger samples?"
   ]
  },
  {
   "cell_type": "code",
   "execution_count": null,
   "id": "19537dda",
   "metadata": {},
   "outputs": [],
   "source": [
    "# Load LR values\n",
    "\n",
    "with open('larger_sample_lr_github.npy', 'rb') as f:\n",
    "    lr_x = np.load(f)\n",
    "    lr_y = np.load(f)\n",
    "    lr_popt = np.load(f)\n",
    "    lr_y_mins = np.load(f)\n",
    "    lr_y_maxs = np.load(f)"
   ]
  },
  {
   "cell_type": "code",
   "execution_count": null,
   "id": "afdfaee9",
   "metadata": {},
   "outputs": [],
   "source": [
    "# Load MLP values\n",
    "\n",
    "with open('larger_sample_mlp_github.npy', 'rb') as f:\n",
    "    mlp_x = np.load(f)\n",
    "    mlp_y = np.load(f)\n",
    "    mlp_popt = np.load(f)\n",
    "    mlp_y_mins = np.load(f)\n",
    "    mlp_y_maxs = np.load(f)"
   ]
  },
  {
   "cell_type": "code",
   "execution_count": null,
   "id": "f6e1be42",
   "metadata": {},
   "outputs": [],
   "source": [
    "# Load XGBoost own values\n",
    "\n",
    "with open('larger_sample_xgboost_own_github.npy', 'rb') as f:\n",
    "    xgboost_own_x = np.load(f)\n",
    "    xgboost_own_y = np.load(f)\n",
    "    xgboost_own_popt = np.load(f)\n",
    "    xgboost_own_y_mins = np.load(f)\n",
    "    xgboost_own_y_maxs = np.load(f)"
   ]
  },
  {
   "cell_type": "code",
   "execution_count": null,
   "id": "c7c2b904",
   "metadata": {},
   "outputs": [],
   "source": [
    "# Important additional packages\n",
    "\n",
    "from scipy.stats import powerlaw\n",
    "from scipy.optimize import curve_fit\n",
    "from scipy.integrate import quad"
   ]
  },
  {
   "cell_type": "code",
   "execution_count": null,
   "id": "bd1a51dc",
   "metadata": {
    "scrolled": true
   },
   "outputs": [],
   "source": [
    "# Define function\n",
    "\n",
    "def func_inverse_powerlaw(x, a, b, c):\n",
    "    return (1-a)-b*x**c\n",
    "\n",
    "target_func = func_inverse_powerlaw\n",
    "\n",
    "# Expand x array\n",
    "x_expand = np.arange(1,2000)\n",
    "\n",
    "# Plot\n",
    "plt.figure(figsize=(10, 8))\n",
    "\n",
    "# LR\n",
    "plt.plot(lr_x, lr_y*100, 'ro', color='#7a5071', label='Learning curve on dataset points')\n",
    "plt.plot(lr_x, target_func(lr_x, *lr_popt)*100, '-', color='#7a5071', label='LR - Fitted inverse power-function')\n",
    "plt.plot(x_expand, target_func(x_expand, *lr_popt)*100, '--', color='#7a5071', label='LR - Prediction on expanded dataset')\n",
    "plt.fill_between(x_expand, lr_y_mins, lr_y_maxs,color = '#7a5071', alpha = 0.15)\n",
    "\n",
    "# MLP\n",
    "plt.plot(mlp_x, mlp_y*100, 'ro',color='#ce8080')\n",
    "plt.plot(mlp_x, target_func(mlp_x, *mlp_popt)*100, '-', color='#ce8080', label='MLP - Fitted inverse power-function')\n",
    "plt.plot(x_expand, target_func(x_expand, *mlp_popt)*100, '--', color='#ce8080', label='MLP - Prediction on expanded dataset')\n",
    "plt.fill_between(x_expand, mlp_y_mins, mlp_y_maxs,color = '#ce8080', alpha = 0.15)\n",
    "\n",
    "# XGBoost\n",
    "plt.plot(xgboost_own_x, xgboost_own_y*100, 'ro', color='#5698a3')\n",
    "plt.plot(xgboost_own_x, target_func(mlp_x, *xgboost_own_popt)*100, '-', color='#5698a3', label='XGBoost - Fitted inverse power-function')\n",
    "plt.plot(x_expand, target_func(x_expand, *xgboost_own_popt)*100, '--', color='#5698a3', label='XGBoost - Prediction on expanded dataset')\n",
    "plt.fill_between(x_expand, xgboost_own_y_mins, xgboost_own_y_maxs,color = '#5698a3', alpha = 0.15)\n",
    "\n",
    "plt.ylim([40,80])\n",
    "plt.xticks(size = 25)\n",
    "plt.yticks(size = 25)\n",
    "plt.ylabel('Accuracy (%)', fontsize = 35)\n",
    "plt.xlabel('Sample size', fontsize = 35)\n",
    "plt.legend(loc = 4,prop = {'size': 19})\n",
    "\n",
    "\n",
    "plt.savefig('inverse_power_law_Epilepsia.png')"
   ]
  },
  {
   "cell_type": "code",
   "execution_count": null,
   "id": "c6646bf0",
   "metadata": {},
   "outputs": [],
   "source": []
  },
  {
   "cell_type": "code",
   "execution_count": null,
   "id": "ed766181",
   "metadata": {},
   "outputs": [],
   "source": []
  }
 ],
 "metadata": {
  "kernelspec": {
   "display_name": "Python 3 (ipykernel)",
   "language": "python",
   "name": "python3"
  },
  "language_info": {
   "codemirror_mode": {
    "name": "ipython",
    "version": 3
   },
   "file_extension": ".py",
   "mimetype": "text/x-python",
   "name": "python",
   "nbconvert_exporter": "python",
   "pygments_lexer": "ipython3",
   "version": "3.9.12"
  }
 },
 "nbformat": 4,
 "nbformat_minor": 5
}
